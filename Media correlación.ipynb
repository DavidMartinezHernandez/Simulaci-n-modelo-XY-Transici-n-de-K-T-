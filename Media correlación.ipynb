{
 "cells": [
  {
   "cell_type": "code",
   "execution_count": 3,
   "metadata": {},
   "outputs": [],
   "source": [
    "import numpy as np\n",
    "import os\n",
    "\n",
    "#Funciones para cargar los datos, calcular las correlaciones medias y guardarlas en nuevos archivos\n",
    "def load_correlations(directory, temperatures):\n",
    "    correlation_data = {}\n",
    "    for temp in temperatures:\n",
    "        temp_str = str(int(temp * 10000)).zfill(5)\n",
    "        filename = os.path.join(directory, f'corratT={temp_str}.data')\n",
    "        data = np.loadtxt(filename)\n",
    "        correlation_data[temp] = data\n",
    "    return correlation_data\n",
    "\n",
    "def calculate_mean_correlations(correlation_data):\n",
    "    mean_correlations = {}\n",
    "    for temp, data in correlation_data.items():\n",
    "        mean_correlations[temp] = np.mean(data, axis=0)\n",
    "    return mean_correlations\n",
    "\n",
    "def save_mean_correlations(directory, mean_correlations):\n",
    "    for temp, mean_corr in mean_correlations.items():\n",
    "        temp_str = str(int(temp * 10000)).zfill(5)\n",
    "        filename = os.path.join(directory, f'mean_corratT={temp_str}.data')\n",
    "        np.savetxt(filename, mean_corr)\n",
    "\n",
    "def load_temperatures(file_path):\n",
    "    data = np.loadtxt(file_path)\n",
    "    return data\n",
    "\n",
    "# Función main\n",
    "def main():\n",
    "    directory = 'C:\\\\Users\\\\Usuario\\\\OneDrive\\\\Escritorio\\\\Cosas TFG\\\\configparallelcorr=70'  # Cambiar esta ruta según el escritorio en el que estén almacenados los datos\n",
    "    variables_file = os.path.join(directory, 'variables.data')\n",
    "    \n",
    "    temperatures = load_temperatures(variables_file)\n",
    "    \n",
    "    correlation_data = load_correlations(directory, temperatures)\n",
    "    \n",
    "    mean_correlations = calculate_mean_correlations(correlation_data)\n",
    "    \n",
    "    save_mean_correlations(directory, mean_correlations)\n",
    "\n",
    "    \n",
    "if __name__ == \"__main__\":\n",
    "    main()\n"
   ]
  }
 ],
 "metadata": {
  "kernelspec": {
   "display_name": "Python 3",
   "language": "python",
   "name": "python3"
  },
  "language_info": {
   "codemirror_mode": {
    "name": "ipython",
    "version": 3
   },
   "file_extension": ".py",
   "mimetype": "text/x-python",
   "name": "python",
   "nbconvert_exporter": "python",
   "pygments_lexer": "ipython3",
   "version": "3.8.3"
  }
 },
 "nbformat": 4,
 "nbformat_minor": 4
}
