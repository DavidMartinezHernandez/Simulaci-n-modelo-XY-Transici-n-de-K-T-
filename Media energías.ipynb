{
 "cells": [
  {
   "cell_type": "code",
   "execution_count": 1,
   "metadata": {},
   "outputs": [
    {
     "name": "stdout",
     "output_type": "stream",
     "text": [
      "Guardadas las energías medias para energias_2.0_L=20 en energias_2.0_L=20\\mean_energy_energias_2.0_L=20.data\n",
      "Guardadas las energías medias para energias_2.0_L=30 en energias_2.0_L=30\\mean_energy_energias_2.0_L=30.data\n",
      "Guardadas las energías medias para energias_2.0_L=40 en energias_2.0_L=40\\mean_energy_energias_2.0_L=40.data\n",
      "Guardadas las energías medias para energias_2.0_L=50 en energias_2.0_L=50\\mean_energy_energias_2.0_L=50.data\n",
      "Guardadas las energías medias para energias_2.0_L=60 en energias_2.0_L=60\\mean_energy_energias_2.0_L=60.data\n"
     ]
    }
   ],
   "source": [
    "import numpy as np\n",
    "import os\n",
    "\n",
    "#Función para cargar los datos y calcular las energías medias\n",
    "def calculate_mean_energy(directory):\n",
    "    \n",
    "    variables_file = os.path.join(directory, 'variables.data')\n",
    "    temperatures = np.loadtxt(variables_file)\n",
    "    \n",
    "    mean_energies = []\n",
    "    \n",
    "    for temp in temperatures:\n",
    "        temp_str = f\"{int(temp * 10000):05d}\"\n",
    "        file = f'EnergyatT={temp_str}.data'\n",
    "        \n",
    "        \n",
    "        energies = np.loadtxt(os.path.join(directory, file))\n",
    "        \n",
    "        \n",
    "        mean_energy = np.mean(energies)\n",
    "        mean_energies.append(mean_energy)\n",
    "    \n",
    "    return temperatures, np.array(mean_energies)\n",
    "\n",
    "#Función para almacenar los datos de energía media de todas las temperaturas\n",
    "def save_mean_energies(temperatures, mean_energies, output_file):\n",
    "    with open(output_file, 'w') as f:\n",
    "        for temp, energy in zip(temperatures, mean_energies):\n",
    "            f.write(f\"{temp} {energy}\\n\")\n",
    "\n",
    "# Directorios donde estén guardadas las medidas de cada tamaño de red\n",
    "directories = ['energias_2.0_L=20', 'energias_2.0_L=30', 'energias_2.0_L=40', 'energias_2.0_L=50', 'energias_2.0_L=60']\n",
    "\n",
    "for directory in directories:\n",
    "    temperatures, mean_energies = calculate_mean_energy(directory)\n",
    "    output_file = os.path.join(directory, f'mean_energy_{directory}.data')\n",
    "    save_mean_energies(temperatures, mean_energies, output_file)\n",
    "    print(f\"Guardadas las energías medias para {directory} en {output_file}\")\n"
   ]
  }
 ],
 "metadata": {
  "kernelspec": {
   "display_name": "Python 3",
   "language": "python",
   "name": "python3"
  },
  "language_info": {
   "codemirror_mode": {
    "name": "ipython",
    "version": 3
   },
   "file_extension": ".py",
   "mimetype": "text/x-python",
   "name": "python",
   "nbconvert_exporter": "python",
   "pygments_lexer": "ipython3",
   "version": "3.8.3"
  }
 },
 "nbformat": 4,
 "nbformat_minor": 4
}
